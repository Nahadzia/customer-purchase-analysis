{
 "cells": [
  {
   "cell_type": "code",
   "execution_count": 1,
   "id": "f3c46936",
   "metadata": {
    "_cell_guid": "b1076dfc-b9ad-4769-8c92-a6c4dae69d19",
    "_uuid": "8f2839f25d086af736a60e9eeb907d3b93b6e0e5",
    "execution": {
     "iopub.execute_input": "2025-08-31T18:22:48.822344Z",
     "iopub.status.busy": "2025-08-31T18:22:48.821302Z",
     "iopub.status.idle": "2025-08-31T18:22:51.547619Z",
     "shell.execute_reply": "2025-08-31T18:22:51.546221Z"
    },
    "papermill": {
     "duration": 2.735528,
     "end_time": "2025-08-31T18:22:51.549802",
     "exception": false,
     "start_time": "2025-08-31T18:22:48.814274",
     "status": "completed"
    },
    "tags": []
   },
   "outputs": [
    {
     "name": "stdout",
     "output_type": "stream",
     "text": [
      "/kaggle/input/online-retail-dataset/online_retail.csv\n"
     ]
    }
   ],
   "source": [
    "# This Python 3 environment comes with many helpful analytics libraries installed\n",
    "# It is defined by the kaggle/python Docker image: https://github.com/kaggle/docker-python\n",
    "# For example, here's several helpful packages to load\n",
    "\n",
    "import numpy as np # linear algebra\n",
    "import pandas as pd # data processing, CSV file I/O (e.g. pd.read_csv)\n",
    "\n",
    "# Input data files are available in the read-only \"../input/\" directory\n",
    "# For example, running this (by clicking run or pressing Shift+Enter) will list all files under the input directory\n",
    "\n",
    "import os\n",
    "for dirname, _, filenames in os.walk('/kaggle/input'):\n",
    "    for filename in filenames:\n",
    "        print(os.path.join(dirname, filename))\n",
    "\n",
    "# You can write up to 20GB to the current directory (/kaggle/working/) that gets preserved as output when you create a version using \"Save & Run All\" \n",
    "# You can also write temporary files to /kaggle/temp/, but they won't be saved outside of the current session"
   ]
  },
  {
   "cell_type": "markdown",
   "id": "8370942f",
   "metadata": {
    "papermill": {
     "duration": 0.004259,
     "end_time": "2025-08-31T18:22:51.559487",
     "exception": false,
     "start_time": "2025-08-31T18:22:51.555228",
     "status": "completed"
    },
    "tags": []
   },
   "source": [
    "# 🛒 Customer Purchase Behavior Analysis  \n",
    "\n",
    "Understanding customer behavior is one of the most important tasks in retail and e-commerce.  \n",
    "In this notebook, I analyze the **Online Retail Dataset** to explore how customers purchase, how much revenue they generate, and what patterns exist in the data.  \n",
    "\n",
    "### 🔍 Objectives\n",
    "- Perform **data cleaning & preprocessing** (handle missing values, duplicates, outliers).  \n",
    "- Create **new features** such as TotalAmount and time-based features.  \n",
    "- Explore **sales patterns** by product, country, and time.  \n",
    "- Identify **top customers & spending behavior**.  \n",
    "  \n",
    "### 🛠️ Tools & Libraries\n",
    "- **Pandas, Numpy** → Data cleaning & preprocessing  \n",
    "- **Matplotlib, Seaborn** → Visualization  \n",
    " \n",
    "The final goal is to gain insights into **customer behavior & sales trends** that can help businesses make data-driven decisions.  \n"
   ]
  },
  {
   "cell_type": "code",
   "execution_count": 2,
   "id": "79af2da4",
   "metadata": {
    "execution": {
     "iopub.execute_input": "2025-08-31T18:22:51.569711Z",
     "iopub.status.busy": "2025-08-31T18:22:51.569285Z",
     "iopub.status.idle": "2025-08-31T18:22:51.574798Z",
     "shell.execute_reply": "2025-08-31T18:22:51.573607Z"
    },
    "papermill": {
     "duration": 0.012615,
     "end_time": "2025-08-31T18:22:51.576488",
     "exception": false,
     "start_time": "2025-08-31T18:22:51.563873",
     "status": "completed"
    },
    "tags": []
   },
   "outputs": [],
   "source": [
    "import pandas as pd"
   ]
  },
  {
   "cell_type": "markdown",
   "id": "989f4f31",
   "metadata": {
    "papermill": {
     "duration": 0.004892,
     "end_time": "2025-08-31T18:22:51.586395",
     "exception": false,
     "start_time": "2025-08-31T18:22:51.581503",
     "status": "completed"
    },
    "tags": []
   },
   "source": [
    "**LOADING DATA**"
   ]
  },
  {
   "cell_type": "code",
   "execution_count": 3,
   "id": "01f0b7bf",
   "metadata": {
    "execution": {
     "iopub.execute_input": "2025-08-31T18:22:51.597475Z",
     "iopub.status.busy": "2025-08-31T18:22:51.597114Z",
     "iopub.status.idle": "2025-08-31T18:22:53.471349Z",
     "shell.execute_reply": "2025-08-31T18:22:53.468455Z"
    },
    "papermill": {
     "duration": 1.884176,
     "end_time": "2025-08-31T18:22:53.475076",
     "exception": false,
     "start_time": "2025-08-31T18:22:51.590900",
     "status": "completed"
    },
    "tags": []
   },
   "outputs": [
    {
     "name": "stdout",
     "output_type": "stream",
     "text": [
      "  InvoiceNo StockCode                          Description  Quantity  \\\n",
      "0    536365    85123A   WHITE HANGING HEART T-LIGHT HOLDER         6   \n",
      "1    536365     71053                  WHITE METAL LANTERN         6   \n",
      "2    536365    84406B       CREAM CUPID HEARTS COAT HANGER         8   \n",
      "3    536365    84029G  KNITTED UNION FLAG HOT WATER BOTTLE         6   \n",
      "4    536365    84029E       RED WOOLLY HOTTIE WHITE HEART.         6   \n",
      "\n",
      "           InvoiceDate  UnitPrice  CustomerID         Country  \n",
      "0  2010-12-01 08:26:00       2.55     17850.0  United Kingdom  \n",
      "1  2010-12-01 08:26:00       3.39     17850.0  United Kingdom  \n",
      "2  2010-12-01 08:26:00       2.75     17850.0  United Kingdom  \n",
      "3  2010-12-01 08:26:00       3.39     17850.0  United Kingdom  \n",
      "4  2010-12-01 08:26:00       3.39     17850.0  United Kingdom  \n",
      "(541909, 8)\n",
      "Index(['InvoiceNo', 'StockCode', 'Description', 'Quantity', 'InvoiceDate',\n",
      "       'UnitPrice', 'CustomerID', 'Country'],\n",
      "      dtype='object')\n",
      "InvoiceNo       object\n",
      "StockCode       object\n",
      "Description     object\n",
      "Quantity         int64\n",
      "InvoiceDate     object\n",
      "UnitPrice      float64\n",
      "CustomerID     float64\n",
      "Country         object\n",
      "dtype: object\n"
     ]
    }
   ],
   "source": [
    "df=pd.read_csv(\"/kaggle/input/online-retail-dataset/online_retail.csv\")\n",
    "print(df.head())\n",
    "print(df.shape)\n",
    "print(df.columns)\n",
    "print(df.dtypes)"
   ]
  },
  {
   "cell_type": "markdown",
   "id": "4d72ef50",
   "metadata": {
    "papermill": {
     "duration": 0.006493,
     "end_time": "2025-08-31T18:22:53.488947",
     "exception": false,
     "start_time": "2025-08-31T18:22:53.482454",
     "status": "completed"
    },
    "tags": []
   },
   "source": [
    "**HANDLE MISSING VALUES**"
   ]
  },
  {
   "cell_type": "code",
   "execution_count": 4,
   "id": "83163687",
   "metadata": {
    "execution": {
     "iopub.execute_input": "2025-08-31T18:22:53.506661Z",
     "iopub.status.busy": "2025-08-31T18:22:53.506337Z",
     "iopub.status.idle": "2025-08-31T18:22:53.668580Z",
     "shell.execute_reply": "2025-08-31T18:22:53.667149Z"
    },
    "papermill": {
     "duration": 0.171594,
     "end_time": "2025-08-31T18:22:53.670519",
     "exception": false,
     "start_time": "2025-08-31T18:22:53.498925",
     "status": "completed"
    },
    "tags": []
   },
   "outputs": [
    {
     "name": "stdout",
     "output_type": "stream",
     "text": [
      "InvoiceNo           0\n",
      "StockCode           0\n",
      "Description      1454\n",
      "Quantity            0\n",
      "InvoiceDate         0\n",
      "UnitPrice           0\n",
      "CustomerID     135080\n",
      "Country             0\n",
      "dtype: int64\n"
     ]
    }
   ],
   "source": [
    "print(df.isna().sum())"
   ]
  },
  {
   "cell_type": "code",
   "execution_count": 5,
   "id": "7d8fd28f",
   "metadata": {
    "execution": {
     "iopub.execute_input": "2025-08-31T18:22:53.683084Z",
     "iopub.status.busy": "2025-08-31T18:22:53.681925Z",
     "iopub.status.idle": "2025-08-31T18:22:53.813552Z",
     "shell.execute_reply": "2025-08-31T18:22:53.812411Z"
    },
    "papermill": {
     "duration": 0.140625,
     "end_time": "2025-08-31T18:22:53.815938",
     "exception": false,
     "start_time": "2025-08-31T18:22:53.675313",
     "status": "completed"
    },
    "tags": []
   },
   "outputs": [
    {
     "name": "stdout",
     "output_type": "stream",
     "text": [
      "[17850. 13047. 12583. ... 13298. 14569. 12713.]\n",
      "0\n",
      "0\n"
     ]
    },
    {
     "name": "stderr",
     "output_type": "stream",
     "text": [
      "/tmp/ipykernel_13/463281849.py:2: FutureWarning: Series.fillna with 'method' is deprecated and will raise in a future version. Use obj.ffill() or obj.bfill() instead.\n",
      "  df['CustomerID']=df['CustomerID'].fillna(method='ffill')\n",
      "/tmp/ipykernel_13/463281849.py:3: FutureWarning: Series.fillna with 'method' is deprecated and will raise in a future version. Use obj.ffill() or obj.bfill() instead.\n",
      "  df['Description']=df['Description'].fillna(method='ffill')\n"
     ]
    }
   ],
   "source": [
    "print(df['CustomerID'].unique())\n",
    "df['CustomerID']=df['CustomerID'].fillna(method='ffill')\n",
    "df['Description']=df['Description'].fillna(method='ffill')\n",
    "print(df['CustomerID'].isna().sum())\n",
    "print(df['Description'].isna().sum())"
   ]
  },
  {
   "cell_type": "markdown",
   "id": "718fb289",
   "metadata": {
    "papermill": {
     "duration": 0.005528,
     "end_time": "2025-08-31T18:22:53.827271",
     "exception": false,
     "start_time": "2025-08-31T18:22:53.821743",
     "status": "completed"
    },
    "tags": []
   },
   "source": [
    "**CHECKING DUPLICATES**\n"
   ]
  },
  {
   "cell_type": "code",
   "execution_count": 6,
   "id": "bd307ec3",
   "metadata": {
    "execution": {
     "iopub.execute_input": "2025-08-31T18:22:53.840675Z",
     "iopub.status.busy": "2025-08-31T18:22:53.840311Z",
     "iopub.status.idle": "2025-08-31T18:22:54.688584Z",
     "shell.execute_reply": "2025-08-31T18:22:54.687306Z"
    },
    "papermill": {
     "duration": 0.85722,
     "end_time": "2025-08-31T18:22:54.690368",
     "exception": false,
     "start_time": "2025-08-31T18:22:53.833148",
     "status": "completed"
    },
    "tags": []
   },
   "outputs": [
    {
     "name": "stdout",
     "output_type": "stream",
     "text": [
      "5268\n",
      "(541909, 8)\n",
      "(536641, 8)\n"
     ]
    }
   ],
   "source": [
    "print(df.duplicated().sum())\n",
    "print(df.shape)\n",
    "df=df.drop_duplicates()\n",
    "print(df.shape)"
   ]
  },
  {
   "cell_type": "markdown",
   "id": "41e39ec8",
   "metadata": {
    "papermill": {
     "duration": 0.004528,
     "end_time": "2025-08-31T18:22:54.699854",
     "exception": false,
     "start_time": "2025-08-31T18:22:54.695326",
     "status": "completed"
    },
    "tags": []
   },
   "source": [
    "**FEATURE ENGINEERING**"
   ]
  },
  {
   "cell_type": "code",
   "execution_count": 7,
   "id": "2a9487cc",
   "metadata": {
    "execution": {
     "iopub.execute_input": "2025-08-31T18:22:54.711882Z",
     "iopub.status.busy": "2025-08-31T18:22:54.711353Z",
     "iopub.status.idle": "2025-08-31T18:22:59.181839Z",
     "shell.execute_reply": "2025-08-31T18:22:59.178426Z"
    },
    "papermill": {
     "duration": 4.479824,
     "end_time": "2025-08-31T18:22:59.184590",
     "exception": false,
     "start_time": "2025-08-31T18:22:54.704766",
     "status": "completed"
    },
    "tags": []
   },
   "outputs": [
    {
     "name": "stdout",
     "output_type": "stream",
     "text": [
      "  InvoiceNo StockCode                          Description  Quantity  \\\n",
      "0    536365    85123A   WHITE HANGING HEART T-LIGHT HOLDER         6   \n",
      "1    536365     71053                  WHITE METAL LANTERN         6   \n",
      "2    536365    84406B       CREAM CUPID HEARTS COAT HANGER         8   \n",
      "3    536365    84029G  KNITTED UNION FLAG HOT WATER BOTTLE         6   \n",
      "4    536365    84029E       RED WOOLLY HOTTIE WHITE HEART.         6   \n",
      "\n",
      "           InvoiceDate  UnitPrice  CustomerID         Country  TotalAmount  \n",
      "0  2010-12-01 08:26:00       2.55     17850.0  United Kingdom        15.30  \n",
      "1  2010-12-01 08:26:00       3.39     17850.0  United Kingdom        20.34  \n",
      "2  2010-12-01 08:26:00       2.75     17850.0  United Kingdom        22.00  \n",
      "3  2010-12-01 08:26:00       3.39     17850.0  United Kingdom        20.34  \n",
      "4  2010-12-01 08:26:00       3.39     17850.0  United Kingdom        20.34  \n"
     ]
    }
   ],
   "source": [
    "df[\"TotalAmount\"]=df.apply(lambda x:x[\"Quantity\"]*x[\"UnitPrice\"],axis=1)\n",
    "print(df.head())"
   ]
  },
  {
   "cell_type": "code",
   "execution_count": 8,
   "id": "0b880cb7",
   "metadata": {
    "execution": {
     "iopub.execute_input": "2025-08-31T18:22:59.203083Z",
     "iopub.status.busy": "2025-08-31T18:22:59.201522Z",
     "iopub.status.idle": "2025-08-31T18:22:59.426995Z",
     "shell.execute_reply": "2025-08-31T18:22:59.423181Z"
    },
    "papermill": {
     "duration": 0.241229,
     "end_time": "2025-08-31T18:22:59.430918",
     "exception": false,
     "start_time": "2025-08-31T18:22:59.189689",
     "status": "completed"
    },
    "tags": []
   },
   "outputs": [
    {
     "name": "stdout",
     "output_type": "stream",
     "text": [
      "  InvoiceNo StockCode                          Description  Quantity  \\\n",
      "0    536365    85123A   WHITE HANGING HEART T-LIGHT HOLDER         6   \n",
      "1    536365     71053                  WHITE METAL LANTERN         6   \n",
      "2    536365    84406B       CREAM CUPID HEARTS COAT HANGER         8   \n",
      "3    536365    84029G  KNITTED UNION FLAG HOT WATER BOTTLE         6   \n",
      "4    536365    84029E       RED WOOLLY HOTTIE WHITE HEART.         6   \n",
      "\n",
      "          InvoiceDate  UnitPrice  CustomerID         Country  TotalAmount  \\\n",
      "0 2010-12-01 08:26:00       2.55     17850.0  United Kingdom        15.30   \n",
      "1 2010-12-01 08:26:00       3.39     17850.0  United Kingdom        20.34   \n",
      "2 2010-12-01 08:26:00       2.75     17850.0  United Kingdom        22.00   \n",
      "3 2010-12-01 08:26:00       3.39     17850.0  United Kingdom        20.34   \n",
      "4 2010-12-01 08:26:00       3.39     17850.0  United Kingdom        20.34   \n",
      "\n",
      "   Year  Month  Day  Hour  \n",
      "0  2010     12    1     8  \n",
      "1  2010     12    1     8  \n",
      "2  2010     12    1     8  \n",
      "3  2010     12    1     8  \n",
      "4  2010     12    1     8  \n"
     ]
    }
   ],
   "source": [
    "df[\"InvoiceDate\"]=pd.to_datetime(df[\"InvoiceDate\"],errors=\"coerce\")\n",
    "df[\"Year\"]  = df[\"InvoiceDate\"].dt.year\n",
    "df[\"Month\"] = df[\"InvoiceDate\"].dt.month\n",
    "df[\"Day\"]   = df[\"InvoiceDate\"].dt.day\n",
    "df[\"Hour\"]  = df[\"InvoiceDate\"].dt.hour\n",
    "print(df.head())"
   ]
  },
  {
   "cell_type": "markdown",
   "id": "0cf70c73",
   "metadata": {
    "papermill": {
     "duration": 0.00595,
     "end_time": "2025-08-31T18:22:59.445298",
     "exception": false,
     "start_time": "2025-08-31T18:22:59.439348",
     "status": "completed"
    },
    "tags": []
   },
   "source": [
    "**OUTLIER DETECTION**"
   ]
  },
  {
   "cell_type": "code",
   "execution_count": 9,
   "id": "9fb32e77",
   "metadata": {
    "execution": {
     "iopub.execute_input": "2025-08-31T18:22:59.459942Z",
     "iopub.status.busy": "2025-08-31T18:22:59.459446Z",
     "iopub.status.idle": "2025-08-31T18:22:59.835551Z",
     "shell.execute_reply": "2025-08-31T18:22:59.834024Z"
    },
    "papermill": {
     "duration": 0.385071,
     "end_time": "2025-08-31T18:22:59.837344",
     "exception": false,
     "start_time": "2025-08-31T18:22:59.452273",
     "status": "completed"
    },
    "tags": []
   },
   "outputs": [
    {
     "name": "stdout",
     "output_type": "stream",
     "text": [
      "Original shape: (536641, 13)\n",
      "After outlier removal: (485018, 13)\n"
     ]
    }
   ],
   "source": [
    "df_cleaned = df.copy()\n",
    "numeric_cols=[\"Quantity\",\"UnitPrice\",\"TotalAmount\"]\n",
    "# Remove outliers from Quantity using IQR\n",
    "for cols in numeric_cols:\n",
    "    Q1 = df_cleaned[cols].quantile(0.25)\n",
    "    Q3 = df_cleaned[cols].quantile(0.75)\n",
    "    IQR = Q3 - Q1\n",
    "    lower = Q1 - 1.5 * IQR\n",
    "    upper = Q3 + 1.5 * IQR\n",
    "\n",
    "df_cleaned = df_cleaned[(df_cleaned[\"Quantity\"] > lower) & (df_cleaned[\"Quantity\"] <= upper)]\n",
    "df_cleaned = df_cleaned[(df_cleaned[\"UnitPrice\"] > lower) & (df_cleaned[\"UnitPrice\"] <= upper)]\n",
    "df_cleaned = df_cleaned[(df_cleaned[\"TotalAmount\"] > lower) & (df_cleaned[\"TotalAmount\"] <= upper)]\n",
    "print(\"Original shape:\", df.shape)\n",
    "print(\"After outlier removal:\", df_cleaned.shape)\n"
   ]
  },
  {
   "cell_type": "markdown",
   "id": "c2301d01",
   "metadata": {
    "papermill": {
     "duration": 0.005454,
     "end_time": "2025-08-31T18:22:59.848814",
     "exception": false,
     "start_time": "2025-08-31T18:22:59.843360",
     "status": "completed"
    },
    "tags": []
   },
   "source": [
    "**DATA VISUALIZATION**"
   ]
  },
  {
   "cell_type": "code",
   "execution_count": 10,
   "id": "0f4f97c4",
   "metadata": {
    "execution": {
     "iopub.execute_input": "2025-08-31T18:22:59.863885Z",
     "iopub.status.busy": "2025-08-31T18:22:59.863577Z",
     "iopub.status.idle": "2025-08-31T18:22:59.870351Z",
     "shell.execute_reply": "2025-08-31T18:22:59.868197Z"
    },
    "papermill": {
     "duration": 0.015921,
     "end_time": "2025-08-31T18:22:59.873084",
     "exception": false,
     "start_time": "2025-08-31T18:22:59.857163",
     "status": "completed"
    },
    "tags": []
   },
   "outputs": [],
   "source": [
    "from matplotlib import pyplot as plt"
   ]
  },
  {
   "cell_type": "code",
   "execution_count": 11,
   "id": "5fd41c57",
   "metadata": {
    "execution": {
     "iopub.execute_input": "2025-08-31T18:22:59.890167Z",
     "iopub.status.busy": "2025-08-31T18:22:59.889382Z",
     "iopub.status.idle": "2025-08-31T18:22:59.972285Z",
     "shell.execute_reply": "2025-08-31T18:22:59.970265Z"
    },
    "papermill": {
     "duration": 0.093497,
     "end_time": "2025-08-31T18:22:59.974074",
     "exception": false,
     "start_time": "2025-08-31T18:22:59.880577",
     "status": "completed"
    },
    "tags": []
   },
   "outputs": [
    {
     "name": "stdout",
     "output_type": "stream",
     "text": [
      "            Quantity      UnitPrice    TotalAmount\n",
      "count  485018.000000  485018.000000  485018.000000\n",
      "mean        5.587184       3.160572      10.158993\n",
      "std         6.456340       3.258252       8.416664\n",
      "min       -16.000000       0.000000     -16.670000\n",
      "25%         1.000000       1.250000       3.300000\n",
      "50%         3.000000       2.080000       8.260000\n",
      "75%         8.000000       4.130000      15.600000\n",
      "max        37.000000      37.500000      37.800000\n"
     ]
    }
   ],
   "source": [
    "print(df_cleaned[numeric_cols].describe())"
   ]
  },
  {
   "cell_type": "code",
   "execution_count": 12,
   "id": "814faf46",
   "metadata": {
    "execution": {
     "iopub.execute_input": "2025-08-31T18:22:59.987976Z",
     "iopub.status.busy": "2025-08-31T18:22:59.987634Z",
     "iopub.status.idle": "2025-08-31T18:23:01.248489Z",
     "shell.execute_reply": "2025-08-31T18:23:01.247212Z"
    },
    "papermill": {
     "duration": 1.271778,
     "end_time": "2025-08-31T18:23:01.251464",
     "exception": false,
     "start_time": "2025-08-31T18:22:59.979686",
     "status": "completed"
    },
    "tags": []
   },
   "outputs": [
    {
     "data": {
      "image/png": "[encoded data removed]",
      "text/plain": [
       "<Figure size 800x500 with 1 Axes>"
      ]
     },
     "metadata": {},
     "output_type": "display_data"
    },
    {
     "data": {
      "image/png": "[encoded data removed]",
      "text/plain": [
       "<Figure size 800x500 with 1 Axes>"
      ]
     },
     "metadata": {},
     "output_type": "display_data"
    },
    {
     "data": {
      "image/png": "[encoded data removed]",
      "text/plain": [
       "<Figure size 800x500 with 1 Axes>"
      ]
     },
     "metadata": {},
     "output_type": "display_data"
    }
   ],
   "source": [
    "for cols in numeric_cols:\n",
    "    plt.figure(figsize=(8,5))\n",
    "    plt.hist(df_cleaned[cols], bins=50, edgecolor=\"black\")\n",
    "    plt.title(f'Distribution of {cols}')\n",
    "    plt.xlabel(cols)\n",
    "    plt.ylabel(\"Frequency\")\n",
    "    plt.show()\n"
   ]
  },
  {
   "cell_type": "code",
   "execution_count": 13,
   "id": "fd2adf47",
   "metadata": {
    "execution": {
     "iopub.execute_input": "2025-08-31T18:23:01.275813Z",
     "iopub.status.busy": "2025-08-31T18:23:01.275498Z",
     "iopub.status.idle": "2025-08-31T18:23:01.377946Z",
     "shell.execute_reply": "2025-08-31T18:23:01.376389Z"
    },
    "papermill": {
     "duration": 0.118243,
     "end_time": "2025-08-31T18:23:01.380724",
     "exception": false,
     "start_time": "2025-08-31T18:23:01.262481",
     "status": "completed"
    },
    "tags": []
   },
   "outputs": [
    {
     "name": "stdout",
     "output_type": "stream",
     "text": [
      "Description\n",
      "PACK OF 72 RETROSPOT CAKE CASES       16135\n",
      "ASSORTED COLOUR BIRD ORNAMENT         10841\n",
      "LUNCH BAG RED RETROSPOT                9997\n",
      "JUMBO BAG RED RETROSPOT                9744\n",
      "WHITE HANGING HEART T-LIGHT HOLDER     9614\n",
      "JAM MAKING SET PRINTED                 9485\n",
      "PACK OF 60 PINK PAISLEY CAKE CASES     9152\n",
      "MINI PAINT SET VINTAGE                 9079\n",
      "60 TEATIME FAIRY CAKE CASES            8896\n",
      "VICTORIAN GLASS HANGING T-LIGHT        8205\n",
      "Name: Quantity, dtype: int64\n"
     ]
    }
   ],
   "source": [
    "# Top 10 most sold products by Quantity\n",
    "top_products = df_cleaned.groupby(\"Description\")[\"Quantity\"].sum().sort_values(ascending=False).head(10)\n",
    "print(top_products)"
   ]
  },
  {
   "cell_type": "markdown",
   "id": "3508232f",
   "metadata": {
    "papermill": {
     "duration": 0.00688,
     "end_time": "2025-08-31T18:23:01.395628",
     "exception": false,
     "start_time": "2025-08-31T18:23:01.388748",
     "status": "completed"
    },
    "tags": []
   },
   "source": [
    "**BIVARITE ANALYSIS**"
   ]
  },
  {
   "cell_type": "code",
   "execution_count": 14,
   "id": "010e40be",
   "metadata": {
    "execution": {
     "iopub.execute_input": "2025-08-31T18:23:01.418029Z",
     "iopub.status.busy": "2025-08-31T18:23:01.417447Z",
     "iopub.status.idle": "2025-08-31T18:23:04.503680Z",
     "shell.execute_reply": "2025-08-31T18:23:04.502156Z"
    },
    "papermill": {
     "duration": 3.100179,
     "end_time": "2025-08-31T18:23:04.505709",
     "exception": false,
     "start_time": "2025-08-31T18:23:01.405530",
     "status": "completed"
    },
    "tags": []
   },
   "outputs": [],
   "source": [
    "import seaborn as sns"
   ]
  },
  {
   "cell_type": "code",
   "execution_count": 15,
   "id": "536dcd83",
   "metadata": {
    "execution": {
     "iopub.execute_input": "2025-08-31T18:23:04.523364Z",
     "iopub.status.busy": "2025-08-31T18:23:04.522815Z",
     "iopub.status.idle": "2025-08-31T18:23:05.764315Z",
     "shell.execute_reply": "2025-08-31T18:23:05.763031Z"
    },
    "papermill": {
     "duration": 1.252588,
     "end_time": "2025-08-31T18:23:05.766465",
     "exception": false,
     "start_time": "2025-08-31T18:23:04.513877",
     "status": "completed"
    },
    "tags": []
   },
   "outputs": [
    {
     "data": {
      "image/png": "[encoded data removed]",
      "text/plain": [
       "<Figure size 640x480 with 1 Axes>"
      ]
     },
     "metadata": {},
     "output_type": "display_data"
    }
   ],
   "source": [
    "# Unit Price vs Quantity\n",
    "sns.scatterplot(x='UnitPrice',y='Quantity',data=df_cleaned)\n",
    "plt.show()\n",
    "# More quantity sold at low price"
   ]
  },
  {
   "cell_type": "code",
   "execution_count": 16,
   "id": "db7ae788",
   "metadata": {
    "execution": {
     "iopub.execute_input": "2025-08-31T18:23:05.786203Z",
     "iopub.status.busy": "2025-08-31T18:23:05.785836Z",
     "iopub.status.idle": "2025-08-31T18:23:06.170195Z",
     "shell.execute_reply": "2025-08-31T18:23:06.166110Z"
    },
    "papermill": {
     "duration": 0.397915,
     "end_time": "2025-08-31T18:23:06.173274",
     "exception": false,
     "start_time": "2025-08-31T18:23:05.775359",
     "status": "completed"
    },
    "tags": []
   },
   "outputs": [
    {
     "data": {
      "text/plain": [
       "<function matplotlib.pyplot.show(close=None, block=None)>"
      ]
     },
     "execution_count": 16,
     "metadata": {},
     "output_type": "execute_result"
    },
    {
     "data": {
      "image/png": "[encoded data removed]",
      "text/plain": [
       "<Figure size 800x500 with 1 Axes>"
      ]
     },
     "metadata": {},
     "output_type": "display_data"
    }
   ],
   "source": [
    "# Month vs Total Sales\n",
    "monthly_sales=df_cleaned.groupby(\"Month\")[\"TotalAmount\"].sum()\n",
    "monthly_sales.plot(kind=\"bar\", figsize=(8,5), title=\"Sales by Month\")\n",
    "plt.show\n",
    "# Month 11 shows highest sales"
   ]
  },
  {
   "cell_type": "markdown",
   "id": "3bf66f53",
   "metadata": {
    "papermill": {
     "duration": 0.009289,
     "end_time": "2025-08-31T18:23:06.192723",
     "exception": false,
     "start_time": "2025-08-31T18:23:06.183434",
     "status": "completed"
    },
    "tags": []
   },
   "source": [
    "# ✅ Conclusion & Insights  \n",
    "\n",
    "From the analysis, we can summarize key findings:  \n",
    "\n",
    "- The dataset required **cleaning**: missing CustomerIDs, duplicate rows, and unrealistic outliers were handled.  \n",
    "- After feature engineering, **TotalAmount (Quantity × Price)** gave us a clear view of customer spending.  \n",
    "- **Most popular products** were identified, showing which items drive the most sales volume.  \n",
    "- **Monthly and country-level trends** highlighted how sales vary over time and across regions.  \n",
    ".  \n",
    "### 🚀 Real-World Impact\n",
    "These insights can help a business to:    \n",
    "- Improve inventory by identifying **top-selling products**.  \n",
    "- Understand **seasonal sales patterns** for better planning.  \n",
    "\n",
    "This project gave me hands-on experience in **data preprocessing, feature engineering, and visualization**, which are essential skills for real-world Data Science and ML projects.  \n"
   ]
  }
 ],
 "metadata": {
  "kaggle": {
   "accelerator": "none",
   "dataSources": [
    {
     "datasetId": 2827948,
     "sourceId": 4877104,
     "sourceType": "datasetVersion"
    }
   ],
   "dockerImageVersionId": 31089,
   "isGpuEnabled": false,
   "isInternetEnabled": false,
   "language": "python",
   "sourceType": "notebook"
  },
  "kernelspec": {
   "display_name": "Python 3",
   "language": "python",
   "name": "python3"
  },
  "language_info": {
   "codemirror_mode": {
    "name": "ipython",
    "version": 3
   },
   "file_extension": ".py",
   "mimetype": "text/x-python",
   "name": "python",
   "nbconvert_exporter": "python",
   "pygments_lexer": "ipython3",
   "version": "3.11.13"
  },
  "papermill": {
   "default_parameters": {},
   "duration": 25.819628,
   "end_time": "2025-08-31T18:23:07.133773",
   "environment_variables": {},
   "exception": null,
   "input_path": "__notebook__.ipynb",
   "output_path": "__notebook__.ipynb",
   "parameters": {},
   "start_time": "2025-08-31T18:22:41.314145",
   "version": "2.6.0"
  }
 },
 "nbformat": 4,
 "nbformat_minor": 5
}
